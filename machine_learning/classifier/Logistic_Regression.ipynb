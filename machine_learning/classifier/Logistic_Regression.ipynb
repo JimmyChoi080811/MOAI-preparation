{
  "nbformat": 4,
  "nbformat_minor": 0,
  "metadata": {
    "colab": {
      "provenance": []
    },
    "kernelspec": {
      "name": "python3",
      "display_name": "Python 3"
    },
    "language_info": {
      "name": "python"
    }
  },
  "cells": [
    {
      "cell_type": "code",
      "execution_count": null,
      "metadata": {
        "id": "UHZ-KPVQW-sh"
      },
      "outputs": [],
      "source": [
        "import numpy as np\n",
        "import pandas as pd\n",
        "from sklearn.model_selection import train_test_split\n",
        "from sklearn.linear_model import LogisticRegression\n",
        "from sklearn.metrics import accuracy_score, classification_report\n",
        "from sklearn import datasets\n",
        "\n",
        "# Load the iris dataset\n",
        "iris = datasets.load_iris()\n",
        "iris_df = pd.DataFrame(data=iris.data, columns=iris.feature_names)\n",
        "\n",
        "# Convert species to a categorical variable (0, 1, 2)\n",
        "target_df = pd.DataFrame(columns=['species'], data=iris.target)\n",
        "iris_df = pd.concat([iris_df, target_df], axis=1)\n",
        "\n",
        "# Drop one feature to make it a binary classification problem\n",
        "iris_df = iris_df[iris_df['species'] != 2]\n",
        "\n",
        "# Variables\n",
        "X = iris_df.drop(labels='species', axis=1)\n",
        "y = iris_df['species']  # Target variable is now 'species'\n",
        "\n",
        "# Splitting the Dataset\n",
        "X_train, X_test, y_train, y_test = train_test_split(X, y, test_size=0.33, random_state=101)\n",
        "\n",
        "# Instantiating LogisticRegression() Model\n",
        "lr = LogisticRegression(solver='liblinear')  # You may need to adjust the solver，内置的激活函數就是sigmoid\n",
        "\n",
        "# Training/Fitting the Model\n",
        "lr.fit(X_train, y_train)\n",
        "\n",
        "# Making Predictions using custom threshold\n",
        "proba = lr.predict_proba(X_test)\n",
        "threshold = 0.3 # Set custom threshold，默認是0.5，需要再改變\n",
        "preds = (proba[:,1] >= threshold).astype(int)\n",
        "\n",
        "# Evaluating Model's Performance\n",
        "print('Accuracy:', accuracy_score(y_test, preds))\n",
        "print(classification_report(y_test, preds))"
      ]
    }
  ]
}